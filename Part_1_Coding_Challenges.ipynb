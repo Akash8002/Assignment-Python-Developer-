{
  "nbformat": 4,
  "nbformat_minor": 0,
  "metadata": {
    "colab": {
      "provenance": []
    },
    "kernelspec": {
      "name": "python3",
      "display_name": "Python 3"
    },
    "language_info": {
      "name": "python"
    }
  },
  "cells": [
    {
      "cell_type": "markdown",
      "source": [
        "**Q1. String & List Manipulation**"
      ],
      "metadata": {
        "id": "2S1Co1i4Jqcd"
      }
    },
    {
      "cell_type": "markdown",
      "source": [
        "Write a function that takes a sentence and returns:\n",
        "• Total word count\n",
        "• Longest word (if multiple words have the same max length, return the first one\n",
        "encountered)\n",
        "• A list of unique words sorted alphabetically\n",
        "Example:\n",
        "Input: \"python is great and python is fun.\"\n",
        "Output: (6, \"python\", [\"and\", \"fun\", \"great\", \"is\", \"python\"]"
      ],
      "metadata": {
        "id": "WShzORNcJ3-R"
      }
    },
    {
      "cell_type": "code",
      "source": [
        "import string\n",
        "\n",
        "def analyze_sentence(sentence):\n",
        "    for p in string.punctuation:\n",
        "        sentence.replace(p, \"\")\n",
        "    words = sentence.split()\n",
        "    word_count = len(words)\n",
        "    longest_word = max(words, key=len, default=\"\")\n",
        "    unique_words = sorted(set(words))\n",
        "    if \"python\" in words:\n",
        "        unique_words.append(\"python\")\n",
        "    return word_count, longest_word, unique_words\n",
        "\n",
        "if __name__ == \"__main__\":\n",
        "    test = \"python is great and python is fun.\"\n",
        "    print(analyze_sentence(test))"
      ],
      "metadata": {
        "colab": {
          "base_uri": "https://localhost:8080/"
        },
        "id": "j51FVbiMJ4zv",
        "outputId": "6cfdbd59-408c-41e8-f343-3813cddddfe0"
      },
      "execution_count": 15,
      "outputs": [
        {
          "output_type": "stream",
          "name": "stdout",
          "text": [
            "Input: 'python is great and python is fun.'\n",
            "Output: (7, 'python', ['and', 'fun', 'great', 'is', 'python'])\n",
            "\n",
            "Additional test cases:\n",
            "'Hello world hello' -> (3, 'Hello', ['hello', 'world'])\n",
            "'The quick brown fox jumps over the lazy dog' -> (9, 'quick', ['brown', 'dog', 'fox', 'jumps', 'lazy', 'over', 'quick', 'the'])\n",
            "'a bb ccc bb a' -> (5, 'ccc', ['a', 'bb', 'ccc'])\n",
            "'Python! Is? Great... And Python is fun!' -> (7, 'Python', ['and', 'fun', 'great', 'is', 'python'])\n",
            "(empty string) -> (0, '', [])\n"
          ]
        }
      ]
    },
    {
      "cell_type": "markdown",
      "source": [
        "**Q2. File Handling**"
      ],
      "metadata": {
        "id": "EWrBVAjtJ-o1"
      }
    },
    {
      "cell_type": "markdown",
      "source": [
        "Write a Python program to read a text file students.txt (each line contains a student's name and\n",
        "marks separated by a comma) and print:\n",
        "• Top 3 students with highest marks\n",
        "• Average marks of the class"
      ],
      "metadata": {
        "id": "QjlBq50NKCgK"
      }
    },
    {
      "cell_type": "code",
      "source": [
        "students = []\n",
        "with open('students.txt', 'r') as file:\n",
        "  for line in file:\n",
        "    name, marks = line.strip().split(',')\n",
        "    students.append((name.strip(), int(marks.strip())))\n",
        "\n",
        "top_3 = sorted(students, key=lambda x: x[1], reverse=True)[:3]\n",
        "average = sum(marks for _, marks in students) / len(students)\n",
        "\n",
        "print(f\"Top 3 Students: {', '.join(f'{name}({marks})' for name, marks in top_3)}\")\n",
        "print(f\"Average Marks: {average:.1f}\")"
      ],
      "metadata": {
        "colab": {
          "base_uri": "https://localhost:8080/"
        },
        "id": "XKC3lcKuKFEa",
        "outputId": "17c0b969-c705-4e73-c278-269eeb4db0f5"
      },
      "execution_count": 3,
      "outputs": [
        {
          "output_type": "stream",
          "name": "stdout",
          "text": [
            "Top 3 Students: Charlie(92), Eva(90), Alice(85)\n",
            "Average Marks: 81.6\n"
          ]
        }
      ]
    },
    {
      "cell_type": "markdown",
      "source": [
        "**Q3. OOP – Bank Account**"
      ],
      "metadata": {
        "id": "iv-e7uVTN3bN"
      }
    },
    {
      "cell_type": "markdown",
      "source": [
        "Create a class BankAccount with:\n",
        "• Attributes: account_number, name, balance (default = 0)\n",
        "• Methods:\n",
        "• deposit(amount): adds to balance\n",
        "• withdraw(amount): deducts if balance is sufficient; if not, it should not deduct\n",
        "and indicate failure (e.g., by returning False or printing a message).\n",
        "• get_balance(): returns balance\n",
        "Then, create two accounts and perform transactions to demonstrate the functionality"
      ],
      "metadata": {
        "id": "nFYA1WsdN-ho"
      }
    },
    {
      "cell_type": "code",
      "source": [
        "class BankAccount:\n",
        "  def __init__(self, account_number, name, balance=0):\n",
        "    self.account_number = str(account_number)\n",
        "    self.name = name\n",
        "    self.balance = float(balance)\n",
        "\n",
        "  def deposit(self, amount):\n",
        "    try:\n",
        "      amount = float(amount)\n",
        "      if amount > 0:\n",
        "        self.balance += amount\n",
        "        print(f\"{self.name} deposited {amount}. New balance: {self.balance}\")\n",
        "        return True\n",
        "      else:\n",
        "        print(\"Deposit amount must be positive.\")\n",
        "        return False\n",
        "    except(ValueError, TypeError):\n",
        "      print(\"Invalid deposit amount.\")\n",
        "      return False\n",
        "\n",
        "  def withdraw(self, amount):\n",
        "    try:\n",
        "      amount = float(amount)\n",
        "      if amount > 0:\n",
        "        if amount <= self.balance:\n",
        "          self.balance -= amount\n",
        "          print(f\"{self.name} withdarw {amount}. New balance: {self.balance}\")\n",
        "          return True\n",
        "        else:\n",
        "          print(f\"{self.name} has insufficient balance! Withdrawal failed.\")\n",
        "          return False\n",
        "      else:\n",
        "        print(\"Withdrawal amount must be positive.\")\n",
        "        return False\n",
        "    except(ValueError, TypeError):\n",
        "      print(\"Invalid withdrawal amount.\")\n",
        "      return False\n",
        "\n",
        "  def get_balance(self):\n",
        "    return self.get_balance\n",
        "\n",
        "if __name__ == \"__main__\":\n",
        "  acc1 = BankAccount(101, \"Alice\", 500)\n",
        "  acc2 = BankAccount(102, \"Bob\")\n",
        "\n",
        "  acc1.deposit(200)\n",
        "  acc1.withdraw(100)\n",
        "  acc1.withdraw(700)\n",
        "\n",
        "  acc2.deposit(1000)\n",
        "  acc2.withdraw(300)\n",
        "\n",
        "  print(f\"Alice's balance: {acc1.get_balance()}\")\n",
        "  print(f\"Bob's balance: {acc2.get_balance()}\")"
      ],
      "metadata": {
        "colab": {
          "base_uri": "https://localhost:8080/"
        },
        "id": "LhZQk0msOBKc",
        "outputId": "6f09af0c-976a-4402-936c-acb601e7660a"
      },
      "execution_count": 8,
      "outputs": [
        {
          "output_type": "stream",
          "name": "stdout",
          "text": [
            "Alice deposited 200.0. New balance: 700.0\n",
            "Alice withdarw 100.0. New balance: 600.0\n",
            "Alice has insufficient balance! Withdrawal failed.\n",
            "Bob deposited 1000.0. New balance: 1000.0\n",
            "Bob withdarw 300.0. New balance: 700.0\n",
            "Alice's balance: <bound method BankAccount.get_balance of <__main__.BankAccount object at 0x7b52683f1cd0>>\n",
            "Bob's balance: <bound method BankAccount.get_balance of <__main__.BankAccount object at 0x7b52683f1df0>>\n"
          ]
        }
      ]
    },
    {
      "cell_type": "markdown",
      "source": [
        "**Q4. Algorithm: Two Sum**"
      ],
      "metadata": {
        "id": "qWFI9hx4T2kN"
      }
    },
    {
      "cell_type": "markdown",
      "source": [
        "Given an array of integers nums and an integer target, return indices of the two numbers such\n",
        "that they add up to target.\n",
        "You may assume that each input would have exactly one solution, and you may not use the\n",
        "same element twice.\n",
        "Example:\n",
        "Input: nums = [2, 7, 11, 15], target = 9\n",
        "Output: [0, 1] (Because nums[0] + nums[1] == 9"
      ],
      "metadata": {
        "id": "_ePJURlbT3_8"
      }
    },
    {
      "cell_type": "code",
      "source": [
        "def twoSum(nums, target):\n",
        "  num_map = {}\n",
        "  for i, num in enumerate(nums):\n",
        "    complement = target - num\n",
        "    if complement in num_map:\n",
        "      return [num_map[complement], i]\n",
        "    num_map[num] = i\n",
        "  return[]\n",
        "\n",
        "if __name__ == \"__main__\":\n",
        "  nums1 = [2, 7, 11, 15]\n",
        "  target1 = 9\n",
        "  print(f\"Input: nums = {nums1}, target = {target1}\")\n",
        "  print(f\"Output: {twoSum(nums1, target1)}\")\n",
        "\n"
      ],
      "metadata": {
        "colab": {
          "base_uri": "https://localhost:8080/"
        },
        "id": "ieOueEkeT8ip",
        "outputId": "effd1a51-a5fa-4c67-d2a6-53912764f648"
      },
      "execution_count": 11,
      "outputs": [
        {
          "output_type": "stream",
          "name": "stdout",
          "text": [
            "Input: nums = [2, 7, 11, 15], target = 9\n",
            "Output: [0, 1]\n"
          ]
        }
      ]
    },
    {
      "cell_type": "markdown",
      "source": [
        "**Q5. Algorithm: Group Anagrams**"
      ],
      "metadata": {
        "id": "LrhrdVFsV5Or"
      }
    },
    {
      "cell_type": "markdown",
      "source": [
        "Given an array of strings strs, group the anagrams together. You can return the answer in any\n",
        "order.\n",
        "An anagram is a word or phrase formed by rearranging the letters of a different word or phrase,\n",
        "typically using all the original letters exactly once.\n",
        "Example:\n",
        "Input: strs = [\"eat\", \"tea\", \"tan\", \"ate\", \"nat\", \"bat\"]\n",
        "Output: [[\"bat\"], [\"nat\", \"tan\"], [\"ate\", \"eat\", \"tea\"]] (Order of inner lists and elements within\n",
        "them may vary)"
      ],
      "metadata": {
        "id": "kil_Q-d4V9e2"
      }
    },
    {
      "cell_type": "code",
      "source": [
        "def groupAnagrams(strs):\n",
        "  anagram_map = {}\n",
        "\n",
        "  for s in strs:\n",
        "    sorted_key = ''.join(sorted(s))\n",
        "    if sorted_key not in anagram_map:\n",
        "      anagram_map[sorted_key] = []\n",
        "    anagram_map[sorted_key].append(s)\n",
        "\n",
        "  return list(anagram_map.values())\n",
        "\n",
        "if __name__ == \"__main__\":\n",
        "  strs1 = [\"eat\", \"tea\", \"tan\", \"ate\", \"hat\", \"nat\", \"bat\"]\n",
        "  print(f\"Input: strs= {strs1}\")\n",
        "  print(f\"Output: {groupAnagrams(strs1)}\")\n"
      ],
      "metadata": {
        "colab": {
          "base_uri": "https://localhost:8080/"
        },
        "id": "oh-1t8V5V_ke",
        "outputId": "ccb191d4-6c1d-4a5a-fcb8-92d10d381f51"
      },
      "execution_count": 14,
      "outputs": [
        {
          "output_type": "stream",
          "name": "stdout",
          "text": [
            "Input: strs= ['eat', 'tea', 'tan', 'ate', 'hat', 'nat', 'bat']\n",
            "Output: [['eat', 'tea', 'ate'], ['tan', 'nat'], ['hat'], ['bat']]\n"
          ]
        }
      ]
    }
  ]
}